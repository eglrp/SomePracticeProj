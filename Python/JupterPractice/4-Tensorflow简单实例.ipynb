{
 "cells": [
  {
   "cell_type": "code",
   "execution_count": 1,
   "metadata": {
    "collapsed": true
   },
   "outputs": [],
   "source": [
    "import tensorflow as tf\n",
    "import numpy as np"
   ]
  },
  {
   "cell_type": "code",
   "execution_count": 8,
   "metadata": {
    "collapsed": false
   },
   "outputs": [
    {
     "name": "stdout",
     "output_type": "stream",
     "text": [
      "0 [0.048609875, 0.09831336]\n",
      "20 [0.09949123, 0.20025119]\n",
      "40 [0.09971964, 0.20013852]\n",
      "60 [0.099845484, 0.20007634]\n",
      "80 [0.09991485, 0.20004208]\n",
      "100 [0.09995306, 0.20002319]\n",
      "120 [0.09997412, 0.20001279]\n",
      "140 [0.09998573, 0.20000705]\n",
      "160 [0.09999213, 0.20000389]\n",
      "180 [0.09999566, 0.20000215]\n"
     ]
    }
   ],
   "source": [
    "#使用 numpy 产生100个随机点\n",
    "x_data = np.random.rand(100)\n",
    "y_data = x_data*0.1+0.2   #这个是真实值\n",
    "\n",
    "#构造一个线性模型\n",
    "b = tf.Variable(0.)\n",
    "k = tf.Variable(0.)\n",
    "y = k*x_data + b  #这个是预测值\n",
    "\n",
    "#定义一个二次代价函数\n",
    "loss = tf.reduce_mean(tf.square(y_data - y))\n",
    "#定义一个梯度下降法来进行训练的优化器\n",
    "optimizer = tf.train.GradientDescentOptimizer(0.2)\n",
    "#定义一个最小化代价函数\n",
    "train = optimizer.minimize(loss)\n",
    "\n",
    "#初始化变量\n",
    "init = tf.global_variables_initializer()\n",
    "\n",
    "with tf.Session() as sess:\n",
    "    sess.run(init)\n",
    "    for step in range(200):\n",
    "        sess.run(train)\n",
    "        if step%20 == 0:\n",
    "            print(step,sess.run([k,b]))\n"
   ]
  },
  {
   "cell_type": "code",
   "execution_count": null,
   "metadata": {
    "collapsed": true
   },
   "outputs": [],
   "source": []
  }
 ],
 "metadata": {
  "kernelspec": {
   "display_name": "Python [default]",
   "language": "python",
   "name": "python3"
  },
  "language_info": {
   "codemirror_mode": {
    "name": "ipython",
    "version": 3
   },
   "file_extension": ".py",
   "mimetype": "text/x-python",
   "name": "python",
   "nbconvert_exporter": "python",
   "pygments_lexer": "ipython3",
   "version": "3.5.2"
  }
 },
 "nbformat": 4,
 "nbformat_minor": 1
}
